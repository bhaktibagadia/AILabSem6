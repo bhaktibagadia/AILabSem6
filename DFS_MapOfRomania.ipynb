{
  "nbformat": 4,
  "nbformat_minor": 0,
  "metadata": {
    "colab": {
      "provenance": []
    },
    "kernelspec": {
      "name": "python3",
      "display_name": "Python 3"
    },
    "language_info": {
      "name": "python"
    }
  },
  "cells": [
    {
      "cell_type": "code",
      "execution_count": null,
      "metadata": {
        "colab": {
          "base_uri": "https://localhost:8080/"
        },
        "id": "r0w26D_x95Kz",
        "outputId": "013659a9-5284-4e8a-88ab-f59f8db32a41"
      },
      "outputs": [
        {
          "output_type": "stream",
          "name": "stdout",
          "text": [
            "['Arad', 'Sibiu', 'Fagaras', 'Bucharest']\n"
          ]
        }
      ],
      "source": [
        "from queue import Queue\n",
        "\n",
        "romaniaMap = {\n",
        "    'Arad': ['Sibiu', 'Zerind', 'Timisoara'],\n",
        "    'Zerind': ['Arad', 'Oradea'],\n",
        "    'Oradea': ['Zerind', 'Sibiu'],\n",
        "    'Sibiu': ['Arad', 'Oradea', 'Fagaras', 'Rimnicu'],\n",
        "    'Timisoara': ['Arad', 'Lugoj'],\n",
        "    'Lugoj': ['Timisoara', 'Mehadia'],\n",
        "    'Mehadia': ['Lugoj', 'Drobeta'],\n",
        "    'Drobeta': ['Mehadia', 'Craiova'],\n",
        "    'Craiova': ['Drobeta', 'Rimnicu', 'Pitesti'],\n",
        "    'Rimnicu': ['Sibiu', 'Craiova', 'Pitesti'],\n",
        "    'Fagaras': ['Sibiu', 'Bucharest'],\n",
        "    'Pitesti': ['Rimnicu', 'Craiova', 'Bucharest'],\n",
        "    'Bucharest': ['Fagaras', 'Pitesti', 'Giurgiu', 'Urziceni'],\n",
        "    'Giurgiu': ['Bucharest'],\n",
        "    'Urziceni': ['Bucharest', 'Vaslui', 'Hirsova'],\n",
        "    'Hirsova': ['Urziceni', 'Eforie'],\n",
        "    'Eforie': ['Hirsova'],\n",
        "    'Vaslui': ['Iasi', 'Urziceni'],\n",
        "    'Iasi': ['Vaslui', 'Neamt'],\n",
        "    'Neamt': ['Iasi']\n",
        "}\n",
        "\n",
        "\n",
        "def bfs(startingNode, destinationNode):\n",
        "    # For keeping track of what we have visited\n",
        "    visited = {}\n",
        "    # keep track of distance\n",
        "    distance = {}\n",
        "    # parent node of specific graph\n",
        "    parent = {}\n",
        "\n",
        "    bfs_traversal_output = []\n",
        "    # BFS is queue based so using 'Queue' from python built-in\n",
        "    queue = Queue()\n",
        "\n",
        "    # travelling the cities in map\n",
        "    for city in romaniaMap.keys():\n",
        "        # since intially no city is visited so there will be nothing in visited list\n",
        "        visited[city] = False\n",
        "        parent[city] = None\n",
        "        distance[city] = -1\n",
        "\n",
        "    # starting from 'Arad'\n",
        "    startingCity = startingNode\n",
        "    visited[startingCity] = True\n",
        "    distance[startingCity] = 0\n",
        "    queue.put(startingCity)\n",
        "\n",
        "    while not queue.empty():\n",
        "        u = queue.get()     # first element of the queue, here it will be 'arad'\n",
        "        bfs_traversal_output.append(u)\n",
        "\n",
        "        # explore the adjust cities adj to 'arad'\n",
        "        for v in romaniaMap[u]:\n",
        "            if not visited[v]:\n",
        "                visited[v] = True\n",
        "                parent[v] = u\n",
        "                distance[v] = distance[u] + 1\n",
        "                queue.put(v)\n",
        "\n",
        "        # reaching our destination city i.e 'bucharest'\n",
        "    g = destinationNode\n",
        "    path = []\n",
        "    while g is not None:\n",
        "        path.append(g)\n",
        "        g = parent[g]\n",
        "\n",
        "    path.reverse()\n",
        "    # printing the path to our destination city\n",
        "    print(path)\n",
        "\n",
        "\n",
        "# Starting City & Destination City\n",
        "bfs('Arad', 'Bucharest')"
      ]
    },
    {
      "cell_type": "code",
      "source": [],
      "metadata": {
        "id": "XEUvlhG_VON-"
      },
      "execution_count": null,
      "outputs": []
    }
  ]
}